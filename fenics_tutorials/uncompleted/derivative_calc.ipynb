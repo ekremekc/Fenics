{
 "cells": [
  {
   "cell_type": "code",
   "execution_count": 239,
   "metadata": {},
   "outputs": [],
   "source": [
    "from dolfin import *\n",
    "import numpy as np"
   ]
  },
  {
   "cell_type": "code",
   "execution_count": 240,
   "metadata": {},
   "outputs": [],
   "source": [
    "# Have the compiler generate code for evaluating derivatives\n",
    "parameters['form_compiler']['no-evaluate_basis_derivatives'] = False"
   ]
  },
  {
   "cell_type": "markdown",
   "metadata": {},
   "source": [
    "## 1D derivative evaluation"
   ]
  },
  {
   "cell_type": "code",
   "execution_count": 241,
   "metadata": {},
   "outputs": [
    {
     "data": {
      "text/plain": [
       "array([[0. ],\n",
       "       [0.1],\n",
       "       [0.2],\n",
       "       [0.3],\n",
       "       [0.4],\n",
       "       [0.5],\n",
       "       [0.6],\n",
       "       [0.7],\n",
       "       [0.8],\n",
       "       [0.9],\n",
       "       [1. ]])"
      ]
     },
     "execution_count": 241,
     "metadata": {},
     "output_type": "execute_result"
    },
    {
     "data": {
      "image/png": "[encoded data removed]",
      "text/plain": [
       "<Figure size 432x288 with 1 Axes>"
      ]
     },
     "metadata": {
      "needs_background": "light"
     },
     "output_type": "display_data"
    }
   ],
   "source": [
    "mesh = UnitIntervalMesh(10)\n",
    "V = FunctionSpace(mesh, 'CG', 1)\n",
    "#f = interpolate(Expression('3*x[0]*x[0]*x[1]-2*x[1]*x[1]*x[0]', degree = 1), V)\n",
    "el = V.element()\n",
    "plot(mesh)\n",
    "mesh.coordinates()"
   ]
  },
  {
   "cell_type": "code",
   "execution_count": 242,
   "metadata": {},
   "outputs": [
    {
     "name": "stdout",
     "output_type": "stream",
     "text": [
      "Cell Number:  0 \tCell Index:  [10  9]\n",
      "Cell Coordinates: \n",
      " [[0. ]\n",
      " [0.1]] \n",
      "\n",
      "Cell Number:  1 \tCell Index:  [9 8]\n",
      "Cell Coordinates: \n",
      " [[0.1]\n",
      " [0.2]] \n",
      "\n",
      "Cell Number:  2 \tCell Index:  [8 7]\n",
      "Cell Coordinates: \n",
      " [[0.2]\n",
      " [0.3]] \n",
      "\n",
      "Cell Number:  3 \tCell Index:  [7 6]\n",
      "Cell Coordinates: \n",
      " [[0.3]\n",
      " [0.4]] \n",
      "\n",
      "Cell Number:  4 \tCell Index:  [6 5]\n",
      "Cell Coordinates: \n",
      " [[0.4]\n",
      " [0.5]] \n",
      "\n",
      "Cell Number:  5 \tCell Index:  [5 4]\n",
      "Cell Coordinates: \n",
      " [[0.5]\n",
      " [0.6]] \n",
      "\n",
      "Cell Number:  6 \tCell Index:  [4 3]\n",
      "Cell Coordinates: \n",
      " [[0.6]\n",
      " [0.7]] \n",
      "\n",
      "Cell Number:  7 \tCell Index:  [3 2]\n",
      "Cell Coordinates: \n",
      " [[0.7]\n",
      " [0.8]] \n",
      "\n",
      "Cell Number:  8 \tCell Index:  [2 1]\n",
      "Cell Coordinates: \n",
      " [[0.8]\n",
      " [0.9]] \n",
      "\n",
      "Cell Number:  9 \tCell Index:  [1 0]\n",
      "Cell Coordinates: \n",
      " [[0.9]\n",
      " [1. ]] \n",
      "\n"
     ]
    }
   ],
   "source": [
    "dofmap = V.dofmap()\n",
    "for x,cell in enumerate(cells(mesh)):\n",
    "    print(\"Cell Number: \",x,\"\\tCell Index: \",dofmap.cell_dofs(cell.index()))\n",
    "    print(\"Cell Coordinates: \\n\", el.tabulate_dof_coordinates(cell),\"\\n\")"
   ]
  },
  {
   "cell_type": "code",
   "execution_count": 243,
   "metadata": {},
   "outputs": [],
   "source": [
    "coordinate = 0.3\n",
    "p = Point(coordinate) "
   ]
  },
  {
   "cell_type": "code",
   "execution_count": 244,
   "metadata": {},
   "outputs": [
    {
     "data": {
      "text/plain": [
       "2"
      ]
     },
     "execution_count": 244,
     "metadata": {},
     "output_type": "execute_result"
    }
   ],
   "source": [
    "cell_id = mesh.bounding_box_tree().compute_first_entity_collision(p)\n",
    "cell_id"
   ]
  },
  {
   "cell_type": "code",
   "execution_count": 245,
   "metadata": {},
   "outputs": [],
   "source": [
    "cell = Cell(mesh, cell_id)"
   ]
  },
  {
   "cell_type": "code",
   "execution_count": 246,
   "metadata": {},
   "outputs": [
    {
     "name": "stdout",
     "output_type": "stream",
     "text": [
      "Coordinates:  [0.2, 0.3]\n",
      "Orientation:  0\n"
     ]
    },
    {
     "data": {
      "text/plain": [
       "array([-10.,  10.])"
      ]
     },
     "execution_count": 246,
     "metadata": {},
     "output_type": "execute_result"
    }
   ],
   "source": [
    "el_1d = V.element()\n",
    "cell_coordinates = cell.get_vertex_coordinates()\n",
    "print(\"Coordinates: \", cell_coordinates)\n",
    "orientation = cell.orientation()\n",
    "print(\"Orientation: \", orientation)\n",
    "d_dx = el_1d.evaluate_basis_derivatives_all(1, np.array([coordinate]), cell_coordinates, orientation)\n",
    "d_dx"
   ]
  },
  {
   "cell_type": "markdown",
   "metadata": {},
   "source": [
    "The left gradient and right gradient with respect to corresponding degree of freedom"
   ]
  },
  {
   "cell_type": "markdown",
   "metadata": {},
   "source": [
    "## 2D derivative evaluation"
   ]
  },
  {
   "cell_type": "code",
   "execution_count": 247,
   "metadata": {},
   "outputs": [
    {
     "data": {
      "text/plain": [
       "array([[0. , 0. ],\n",
       "       [0.5, 0. ],\n",
       "       [1. , 0. ],\n",
       "       [0. , 0.5],\n",
       "       [0.5, 0.5],\n",
       "       [1. , 0.5],\n",
       "       [0. , 1. ],\n",
       "       [0.5, 1. ],\n",
       "       [1. , 1. ]])"
      ]
     },
     "execution_count": 247,
     "metadata": {},
     "output_type": "execute_result"
    },
    {
     "data": {
      "image/png": "[encoded data removed]",
      "text/plain": [
       "<Figure size 432x288 with 1 Axes>"
      ]
     },
     "metadata": {
      "needs_background": "light"
     },
     "output_type": "display_data"
    }
   ],
   "source": [
    "mesh = UnitSquareMesh(2, 2)\n",
    "V = FunctionSpace(mesh, 'CG', 1)\n",
    "#f = interpolate(Expression('3*x[0]*x[0]*x[1]-2*x[1]*x[1]*x[0]', degree = 1), V)\n",
    "el = V.element()\n",
    "plot(mesh)\n",
    "mesh.coordinates()"
   ]
  },
  {
   "cell_type": "code",
   "execution_count": 248,
   "metadata": {},
   "outputs": [
    {
     "name": "stdout",
     "output_type": "stream",
     "text": [
      "Cell Number:  0 \tCell Index:  [3 6 4]\n",
      "Cell Coordinates: \n",
      " [[0.  0. ]\n",
      " [0.5 0. ]\n",
      " [0.5 0.5]] \n",
      "\n",
      "Cell Number:  1 \tCell Index:  [3 1 4]\n",
      "Cell Coordinates: \n",
      " [[0.  0. ]\n",
      " [0.  0.5]\n",
      " [0.5 0.5]] \n",
      "\n",
      "Cell Number:  2 \tCell Index:  [6 8 7]\n",
      "Cell Coordinates: \n",
      " [[0.5 0. ]\n",
      " [1.  0. ]\n",
      " [1.  0.5]] \n",
      "\n",
      "Cell Number:  3 \tCell Index:  [6 4 7]\n",
      "Cell Coordinates: \n",
      " [[0.5 0. ]\n",
      " [0.5 0.5]\n",
      " [1.  0.5]] \n",
      "\n",
      "Cell Number:  4 \tCell Index:  [1 4 2]\n",
      "Cell Coordinates: \n",
      " [[0.  0.5]\n",
      " [0.5 0.5]\n",
      " [0.5 1. ]] \n",
      "\n",
      "Cell Number:  5 \tCell Index:  [1 0 2]\n",
      "Cell Coordinates: \n",
      " [[0.  0.5]\n",
      " [0.  1. ]\n",
      " [0.5 1. ]] \n",
      "\n",
      "Cell Number:  6 \tCell Index:  [4 7 5]\n",
      "Cell Coordinates: \n",
      " [[0.5 0.5]\n",
      " [1.  0.5]\n",
      " [1.  1. ]] \n",
      "\n",
      "Cell Number:  7 \tCell Index:  [4 2 5]\n",
      "Cell Coordinates: \n",
      " [[0.5 0.5]\n",
      " [0.5 1. ]\n",
      " [1.  1. ]] \n",
      "\n"
     ]
    }
   ],
   "source": [
    "dofmap = V.dofmap()\n",
    "for x,cell in enumerate(cells(mesh)):\n",
    "    print(\"Cell Number: \",x,\"\\tCell Index: \",dofmap.cell_dofs(cell.index()))\n",
    "    print(\"Cell Coordinates: \\n\", el.tabulate_dof_coordinates(cell),\"\\n\")"
   ]
  },
  {
   "cell_type": "code",
   "execution_count": 249,
   "metadata": {},
   "outputs": [],
   "source": [
    "# Where to evaluate\n",
    "x = np.array([0.7, 0.9])"
   ]
  },
  {
   "cell_type": "code",
   "execution_count": 250,
   "metadata": {},
   "outputs": [
    {
     "data": {
      "text/plain": [
       "7"
      ]
     },
     "execution_count": 250,
     "metadata": {},
     "output_type": "execute_result"
    }
   ],
   "source": [
    "# Find the cell with point\n",
    "x_point = Point(*x) \n",
    "cell_id = mesh.bounding_box_tree().compute_first_entity_collision(x_point)\n",
    "cell_id"
   ]
  },
  {
   "cell_type": "code",
   "execution_count": 251,
   "metadata": {},
   "outputs": [
    {
     "data": {
      "text/plain": [
       "[0.5, 0.5, 0.5, 1.0, 1.0, 1.0]"
      ]
     },
     "execution_count": 251,
     "metadata": {},
     "output_type": "execute_result"
    }
   ],
   "source": [
    "cell = Cell(mesh, cell_id)\n",
    "coordinate_dofs = cell.get_vertex_coordinates()\n",
    "coordinate_dofs"
   ]
  },
  {
   "cell_type": "code",
   "execution_count": 252,
   "metadata": {},
   "outputs": [
    {
     "data": {
      "text/plain": [
       "array([4, 2, 5], dtype=int32)"
      ]
     },
     "execution_count": 252,
     "metadata": {},
     "output_type": "execute_result"
    }
   ],
   "source": [
    "dofmap = V.dofmap()\n",
    "cell_dofs = dofmap.cell_dofs(cell_id)\n",
    "cell_dofs"
   ]
  },
  {
   "cell_type": "code",
   "execution_count": 253,
   "metadata": {},
   "outputs": [
    {
     "data": {
      "text/plain": [
       "array([-3.99680289e-15, -2.00000000e+00, -2.00000000e+00,  2.00000000e+00,\n",
       "        2.00000000e+00,  0.00000000e+00])"
      ]
     },
     "execution_count": 253,
     "metadata": {},
     "output_type": "execute_result"
    }
   ],
   "source": [
    "element = V.element()\n",
    "d_dx = element.evaluate_basis_derivatives_all(1, x, coordinate_dofs, cell.orientation() )\n",
    "d_dx"
   ]
  },
  {
   "cell_type": "code",
   "execution_count": 254,
   "metadata": {},
   "outputs": [
    {
     "data": {
      "text/plain": [
       "array([[-3.99680289e-15, -2.00000000e+00],\n",
       "       [-2.00000000e+00,  2.00000000e+00],\n",
       "       [ 2.00000000e+00,  0.00000000e+00]])"
      ]
     },
     "execution_count": 254,
     "metadata": {},
     "output_type": "execute_result"
    }
   ],
   "source": [
    "d_dx = d_dx.reshape((len(cell_dofs), -1))\n",
    "d_dx"
   ]
  },
  {
   "cell_type": "code",
   "execution_count": 264,
   "metadata": {},
   "outputs": [
    {
     "name": "stdout",
     "output_type": "stream",
     "text": [
      "[4, array([-3.99680289e-15, -2.00000000e+00])]\n",
      "[2, array([-2.,  2.])]\n",
      "[5, array([2., 0.])]\n"
     ]
    }
   ],
   "source": [
    "for i, dof in enumerate(cell_dofs):\n",
    "    print([dofmap.tabulate_local_to_global_dofs()[dof], d_dx[i]])"
   ]
  },
  {
   "cell_type": "markdown",
   "metadata": {},
   "source": [
    "## 3D derivative evaluation"
   ]
  },
  {
   "cell_type": "code",
   "execution_count": 256,
   "metadata": {},
   "outputs": [],
   "source": [
    "mesh3 = BoxMesh(Point(0, 0, 0),\n",
    "               Point(1, 1, 1),\n",
    "               1,1,1)"
   ]
  },
  {
   "cell_type": "code",
   "execution_count": 257,
   "metadata": {},
   "outputs": [
    {
     "data": {
      "text/plain": [
       "array([[0., 0., 0.],\n",
       "       [1., 0., 0.],\n",
       "       [0., 1., 0.],\n",
       "       [1., 1., 0.],\n",
       "       [0., 0., 1.],\n",
       "       [1., 0., 1.],\n",
       "       [0., 1., 1.],\n",
       "       [1., 1., 1.]])"
      ]
     },
     "execution_count": 257,
     "metadata": {},
     "output_type": "execute_result"
    }
   ],
   "source": [
    "V3 = FunctionSpace(mesh3, 'CG', 1)\n",
    "#f = interpolate(Expression('3*x[0]*x[0]*x[1]-2*x[1]*x[1]*x[0]', degree = 1), V)\n",
    "el3 = V3.element()\n",
    "mesh3.coordinates()"
   ]
  },
  {
   "cell_type": "code",
   "execution_count": 258,
   "metadata": {},
   "outputs": [
    {
     "name": "stdout",
     "output_type": "stream",
     "text": [
      "Cell Number:  0 \tCell Index:  [1 5 6 2]\n",
      "Cell Coordinates: \n",
      " [[0. 0. 0.]\n",
      " [1. 0. 0.]\n",
      " [1. 1. 0.]\n",
      " [1. 1. 1.]] \n",
      "\n",
      "Cell Number:  1 \tCell Index:  [1 5 3 2]\n",
      "Cell Coordinates: \n",
      " [[0. 0. 0.]\n",
      " [1. 0. 0.]\n",
      " [1. 0. 1.]\n",
      " [1. 1. 1.]] \n",
      "\n",
      "Cell Number:  2 \tCell Index:  [1 0 3 2]\n",
      "Cell Coordinates: \n",
      " [[0. 0. 0.]\n",
      " [0. 0. 1.]\n",
      " [1. 0. 1.]\n",
      " [1. 1. 1.]] \n",
      "\n",
      "Cell Number:  3 \tCell Index:  [1 7 6 2]\n",
      "Cell Coordinates: \n",
      " [[0. 0. 0.]\n",
      " [0. 1. 0.]\n",
      " [1. 1. 0.]\n",
      " [1. 1. 1.]] \n",
      "\n",
      "Cell Number:  4 \tCell Index:  [1 0 4 2]\n",
      "Cell Coordinates: \n",
      " [[0. 0. 0.]\n",
      " [0. 0. 1.]\n",
      " [0. 1. 1.]\n",
      " [1. 1. 1.]] \n",
      "\n",
      "Cell Number:  5 \tCell Index:  [1 7 4 2]\n",
      "Cell Coordinates: \n",
      " [[0. 0. 0.]\n",
      " [0. 1. 0.]\n",
      " [0. 1. 1.]\n",
      " [1. 1. 1.]] \n",
      "\n"
     ]
    }
   ],
   "source": [
    "dofmap3 = V3.dofmap()\n",
    "for x,cell in enumerate(cells(mesh3)):\n",
    "    print(\"Cell Number: \",x,\"\\tCell Index: \",dofmap3.cell_dofs(cell.index()))\n",
    "    print(\"Cell Coordinates: \\n\", el3.tabulate_dof_coordinates(cell),\"\\n\")"
   ]
  },
  {
   "cell_type": "code",
   "execution_count": 259,
   "metadata": {},
   "outputs": [],
   "source": [
    "# Where to evaluate\n",
    "x = np.array([0.2, 0.9, 0.2])"
   ]
  },
  {
   "cell_type": "code",
   "execution_count": 260,
   "metadata": {},
   "outputs": [
    {
     "data": {
      "text/plain": [
       "3"
      ]
     },
     "execution_count": 260,
     "metadata": {},
     "output_type": "execute_result"
    }
   ],
   "source": [
    "# Find the cell with point\n",
    "x_point = Point(*x) \n",
    "cell_id = mesh3.bounding_box_tree().compute_first_entity_collision(x_point)\n",
    "cell_id"
   ]
  },
  {
   "cell_type": "code",
   "execution_count": 261,
   "metadata": {},
   "outputs": [
    {
     "data": {
      "text/plain": [
       "[0.5, 0.5, 0.5, 1.0, 1.0, 1.0]"
      ]
     },
     "execution_count": 261,
     "metadata": {},
     "output_type": "execute_result"
    }
   ],
   "source": [
    "cell3 = Cell(mesh3, cell_id)\n",
    "coordinate_dofs3 = cell.get_vertex_coordinates()\n",
    "coordinate_dofs"
   ]
  },
  {
   "cell_type": "code",
   "execution_count": 262,
   "metadata": {},
   "outputs": [
    {
     "data": {
      "text/plain": [
       "array([1, 7, 6, 2], dtype=int32)"
      ]
     },
     "execution_count": 262,
     "metadata": {},
     "output_type": "execute_result"
    }
   ],
   "source": [
    "dofmap3 = V3.dofmap()\n",
    "cell_dofs3 = dofmap3.cell_dofs(cell_id)\n",
    "cell_dofs3"
   ]
  },
  {
   "cell_type": "code",
   "execution_count": 263,
   "metadata": {},
   "outputs": [
    {
     "data": {
      "text/plain": [
       "array([ 1.11022302e-16, -1.00000000e+00, -1.11022302e-16,  5.55111512e-17,\n",
       "        1.00000000e+00, -1.00000000e+00, -1.00000000e+00,  0.00000000e+00,\n",
       "        1.00000000e+00,  1.00000000e+00,  0.00000000e+00,  0.00000000e+00])"
      ]
     },
     "execution_count": 263,
     "metadata": {},
     "output_type": "execute_result"
    }
   ],
   "source": [
    "element3 = V3.element()\n",
    "d_dx3 = element3.evaluate_basis_derivatives_all(1, x, coordinate_dofs3, cell.orientation() )\n",
    "d_dx3"
   ]
  }
 ],
 "metadata": {
  "kernelspec": {
   "display_name": "Python 3",
   "language": "python",
   "name": "python3"
  },
  "language_info": {
   "codemirror_mode": {
    "name": "ipython",
    "version": 3
   },
   "file_extension": ".py",
   "mimetype": "text/x-python",
   "name": "python",
   "nbconvert_exporter": "python",
   "pygments_lexer": "ipython3",
   "version": "3.7.6"
  }
 },
 "nbformat": 4,
 "nbformat_minor": 4
}
