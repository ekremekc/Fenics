{
 "cells": [
  {
   "cell_type": "code",
   "execution_count": 2,
   "metadata": {},
   "outputs": [],
   "source": [
    "from dolfin import *\n",
    "import numpy as np\n",
    "np.set_printoptions(precision=3)"
   ]
  },
  {
   "cell_type": "code",
   "execution_count": 3,
   "metadata": {},
   "outputs": [
    {
     "name": "stdout",
     "output_type": "stream",
     "text": [
      "Calling FFC just-in-time (JIT) compiler, this may take some time.\n",
      "Calling FFC just-in-time (JIT) compiler, this may take some time.\n"
     ]
    }
   ],
   "source": [
    "mesh = UnitIntervalMesh(3)\n",
    "CG = FiniteElement('CG', mesh.ufl_cell(), 1)\n",
    "W = FunctionSpace(mesh, CG * CG)\n",
    "V = FunctionSpace(mesh, 'CG',1)\n",
    "\n",
    "u1,u2 = TrialFunction(W)\n",
    "v1,v2 = TestFunction(W)\n"
   ]
  },
  {
   "cell_type": "code",
   "execution_count": 4,
   "metadata": {},
   "outputs": [
    {
     "name": "stdout",
     "output_type": "stream",
     "text": [
      "Calling FFC just-in-time (JIT) compiler, this may take some time.\n",
      "Calling FFC just-in-time (JIT) compiler, this may take some time.\n",
      "Calling FFC just-in-time (JIT) compiler, this may take some time.\n",
      "Calling FFC just-in-time (JIT) compiler, this may take some time.\n",
      "Calling FFC just-in-time (JIT) compiler, this may take some time.\n"
     ]
    }
   ],
   "source": [
    "dx = Measure('dx', domain=mesh)\n",
    "a11 = dot(grad(u1),grad(v1))*dx\n",
    "a22 = dot(grad(u1),grad(v1))*dx\n",
    "a = a11+a22\n",
    "A = PETScMatrix()\n",
    "assemble(a, tensor=A)\n",
    "A = as_backend_type(A).mat()"
   ]
  },
  {
   "cell_type": "code",
   "execution_count": 5,
   "metadata": {},
   "outputs": [
    {
     "data": {
      "text/plain": [
       "array([[ 6.,  0., -6.,  0.,  0.,  0.,  0.,  0.],\n",
       "       [ 0.,  0.,  0.,  0.,  0.,  0.,  0.,  0.],\n",
       "       [-6.,  0., 12.,  0., -6.,  0.,  0.,  0.],\n",
       "       [ 0.,  0.,  0.,  0.,  0.,  0.,  0.,  0.],\n",
       "       [ 0.,  0., -6.,  0., 12.,  0., -6.,  0.],\n",
       "       [ 0.,  0.,  0.,  0.,  0.,  0.,  0.,  0.],\n",
       "       [ 0.,  0.,  0.,  0., -6.,  0.,  6.,  0.],\n",
       "       [ 0.,  0.,  0.,  0.,  0.,  0.,  0.,  0.]])"
      ]
     },
     "execution_count": 5,
     "metadata": {},
     "output_type": "execute_result"
    }
   ],
   "source": [
    "A.getValues(range(mesh.num_vertices()*2), range(mesh.num_vertices()*2))"
   ]
  },
  {
   "cell_type": "code",
   "execution_count": 11,
   "metadata": {},
   "outputs": [
    {
     "name": "stdout",
     "output_type": "stream",
     "text": [
      "[6 4 7 5]\n",
      "[[ 6. -6.  0.  0.]\n",
      " [-6. 12.  0.  0.]\n",
      " [ 0.  0.  0.  0.]\n",
      " [ 0.  0.  0.  0.]]\n",
      "Calling FFC just-in-time (JIT) compiler, this may take some time.\n",
      "[0.167 0.167 0.167 0.167]\n",
      "\n",
      "\n",
      "[4 2 5 3]\n",
      "[[12. -6.  0.  0.]\n",
      " [-6. 12.  0.  0.]\n",
      " [ 0.  0.  0.  0.]\n",
      " [ 0.  0.  0.  0.]]\n",
      "[0.167 0.167 0.167 0.167]\n",
      "\n",
      "\n",
      "[2 0 3 1]\n",
      "[[12. -6.  0.  0.]\n",
      " [-6.  6.  0.  0.]\n",
      " [ 0.  0.  0.  0.]\n",
      " [ 0.  0.  0.  0.]]\n",
      "[0.167 0.167 0.167 0.167]\n",
      "\n",
      "\n"
     ]
    }
   ],
   "source": [
    "dofmap = W.dofmap()\n",
    "for i, cell in enumerate(cells(mesh)):\n",
    "\n",
    "    # Finding the dof's indices in the current cell\n",
    "    indices = dofmap.cell_dofs(cell.index())\n",
    "    #indices = np.sort(indices).astype(np.int32)\n",
    "    print(indices)\n",
    "    print(A.getValues(indices, indices))\n",
    "    print(assemble_local(v1*dx+v2*dx,cell))\n",
    "    print(\"\\n\")"
   ]
  },
  {
   "cell_type": "code",
   "execution_count": 9,
   "metadata": {},
   "outputs": [
    {
     "data": {
      "text/plain": [
       "array([0.167, 0.   , 0.333, 0.   , 0.333, 0.   , 0.167, 0.   ])"
      ]
     },
     "execution_count": 9,
     "metadata": {},
     "output_type": "execute_result"
    }
   ],
   "source": [
    "assemble(v1*dx)[:]"
   ]
  }
 ],
 "metadata": {
  "kernelspec": {
   "display_name": "Python 3",
   "language": "python",
   "name": "python3"
  },
  "language_info": {
   "codemirror_mode": {
    "name": "ipython",
    "version": 3
   },
   "file_extension": ".py",
   "mimetype": "text/x-python",
   "name": "python",
   "nbconvert_exporter": "python",
   "pygments_lexer": "ipython3",
   "version": "3.7.6"
  }
 },
 "nbformat": 4,
 "nbformat_minor": 4
}
