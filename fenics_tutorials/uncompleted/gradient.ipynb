{
 "cells": [
  {
   "cell_type": "code",
   "execution_count": 23,
   "id": "0c27304a",
   "metadata": {},
   "outputs": [],
   "source": [
    "import dolfin as dolf"
   ]
  },
  {
   "cell_type": "code",
   "execution_count": 24,
   "id": "f8662009",
   "metadata": {},
   "outputs": [],
   "source": [
    "mesh = dolf.UnitIntervalMesh(20)\n",
    "V = dolf.FunctionSpace(mesh, 'CG', 2)"
   ]
  },
  {
   "cell_type": "code",
   "execution_count": 25,
   "id": "2b7f1e7c",
   "metadata": {},
   "outputs": [],
   "source": [
    "f = dolf.Expression(\"pow(x[0],2)\", degree = 2)"
   ]
  },
  {
   "cell_type": "code",
   "execution_count": 48,
   "id": "ed711512",
   "metadata": {},
   "outputs": [
    {
     "name": "stdout",
     "output_type": "stream",
     "text": [
      "Calling FFC just-in-time (JIT) compiler, this may take some time.\n",
      "Calling FFC just-in-time (JIT) compiler, this may take some time.\n"
     ]
    },
    {
     "data": {
      "text/plain": [
       "[<matplotlib.lines.Line2D at 0x7ff040356e20>]"
      ]
     },
     "execution_count": 48,
     "metadata": {},
     "output_type": "execute_result"
    },
    {
     "data": {
      "image/png": "[encoded data removed]",
      "text/plain": [
       "<Figure size 432x288 with 1 Axes>"
      ]
     },
     "metadata": {
      "needs_background": "light"
     },
     "output_type": "display_data"
    }
   ],
   "source": [
    "y = dolf.project(f, V)\n",
    "dolf.plot(y)"
   ]
  },
  {
   "cell_type": "code",
   "execution_count": 56,
   "id": "3e62730e",
   "metadata": {},
   "outputs": [
    {
     "data": {
      "text/plain": [
       "<matplotlib.quiver.Quiver at 0x7ff040207910>"
      ]
     },
     "execution_count": 56,
     "metadata": {},
     "output_type": "execute_result"
    },
    {
     "data": {
      "image/png": "[encoded data removed]",
      "text/plain": [
       "<Figure size 432x288 with 1 Axes>"
      ]
     },
     "metadata": {
      "needs_background": "light"
     },
     "output_type": "display_data"
    }
   ],
   "source": [
    "y_1 = dolf.grad(y)\n",
    "dolf.plot(y_1)"
   ]
  },
  {
   "cell_type": "code",
   "execution_count": 34,
   "id": "1fc9ec85",
   "metadata": {},
   "outputs": [
    {
     "data": {
      "text/plain": [
       "0.33333333333333337"
      ]
     },
     "execution_count": 34,
     "metadata": {},
     "output_type": "execute_result"
    }
   ],
   "source": [
    "dx = dolf.Measure('dx', domain = mesh)\n",
    "dolf.assemble(y*dx)"
   ]
  }
 ],
 "metadata": {
  "kernelspec": {
   "display_name": "Python 3",
   "language": "python",
   "name": "python3"
  },
  "language_info": {
   "codemirror_mode": {
    "name": "ipython",
    "version": 3
   },
   "file_extension": ".py",
   "mimetype": "text/x-python",
   "name": "python",
   "nbconvert_exporter": "python",
   "pygments_lexer": "ipython3",
   "version": "3.9.1"
  }
 },
 "nbformat": 4,
 "nbformat_minor": 5
}
