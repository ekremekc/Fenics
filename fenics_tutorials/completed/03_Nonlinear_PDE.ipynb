{
 "cells": [
  {
   "cell_type": "code",
   "execution_count": 15,
   "metadata": {},
   "outputs": [],
   "source": [
    "from dolfin import *\n",
    "import matplotlib.pyplot as plt\n",
    "import numpy as np"
   ]
  },
  {
   "cell_type": "markdown",
   "metadata": {},
   "source": [
    "## Nonlinear PDEs and Its Implementation\n",
    "\n",
    "We have an equation of;\n",
    "\n",
    "$-\\nabla . (q(u)\\nabla u) = f $ in $\\Omega$ with;\n",
    "\n",
    "$u = u_D$ on the boundary $\\partial \\Omega$\n",
    "\n",
    "The coefficient q(u) makes the equation nonlinear.\n",
    "\n",
    "### Variational Formulation\n",
    "\n",
    "$-q(u)\\nabla^2u=f$\n",
    "\n",
    "Test function, integrating and integrating by parts yields;\n",
    "\n",
    "$\\int -q(u)\\nabla^2uvdx=\\int fvdx$\n",
    "\n",
    "$\\int q(u)\\nabla u \\nabla  v dx=\\int fvdx$\n",
    "\n",
    "$F(u;v) = \\int_\\Omega (q(u)\\nabla u . \\nabla v -fv) dx = 0$\n",
    "\n",
    "Let's define $q(u)$ as $q(u) = 1+u^2$"
   ]
  },
  {
   "cell_type": "code",
   "execution_count": 16,
   "metadata": {},
   "outputs": [],
   "source": [
    "mesh = UnitSquareMesh(8, 8)\n",
    "V = FunctionSpace(mesh, 'CG', 1)"
   ]
  },
  {
   "cell_type": "code",
   "execution_count": 17,
   "metadata": {},
   "outputs": [
    {
     "name": "stdout",
     "output_type": "stream",
     "text": [
      "u = x[0] + 2*x[1] + 1\n",
      "f = -10*x[0] - 20*x[1] - 10\n"
     ]
    }
   ],
   "source": [
    "def q(u):\n",
    "    return 1 + u**2\n",
    "\n",
    "import sympy as sym\n",
    "x, y = sym.symbols(\"x[0], x[1]\")\n",
    "u = 1 + x + 2*y\n",
    "f = - sym.diff(q(u)*sym.diff(u, x), x) - sym.diff(q(u)*sym.diff(u, y), y)\n",
    "f = sym.simplify(f)\n",
    "u_code = sym.printing.ccode(u)\n",
    "f_code = sym.printing.ccode(f)\n",
    "print(\"u =\", u_code)\n",
    "print(\"f =\", f_code)\n"
   ]
  },
  {
   "cell_type": "code",
   "execution_count": 18,
   "metadata": {},
   "outputs": [],
   "source": [
    "def boundary(x, on_boundary):\n",
    "    return on_boundary\n",
    "\n",
    "u_D = Expression(u_code, degree=1)\n",
    "\n",
    "bc = DirichletBC(V, u_D, boundary)"
   ]
  },
  {
   "cell_type": "code",
   "execution_count": 25,
   "metadata": {},
   "outputs": [],
   "source": [
    "u = Function(V)\n",
    "v = TestFunction(V)\n",
    "f = Expression(f_code, degree=1)"
   ]
  },
  {
   "cell_type": "code",
   "execution_count": 26,
   "metadata": {},
   "outputs": [],
   "source": [
    "F = q(u)*dot(grad(u), grad(v))*dx - f*v*dx"
   ]
  },
  {
   "cell_type": "code",
   "execution_count": 27,
   "metadata": {},
   "outputs": [
    {
     "data": {
      "text/plain": [
       "<matplotlib.tri.tricontour.TriContourSet at 0x7fa505799190>"
      ]
     },
     "execution_count": 27,
     "metadata": {},
     "output_type": "execute_result"
    },
    {
     "data": {
      "image/png": "[encoded data removed]",
      "text/plain": [
       "<Figure size 432x288 with 1 Axes>"
      ]
     },
     "metadata": {
      "needs_background": "light"
     },
     "output_type": "display_data"
    }
   ],
   "source": [
    "solve(F == 0, u, bc)\n",
    "plot(u)"
   ]
  }
 ],
 "metadata": {
  "kernelspec": {
   "display_name": "Python 3",
   "language": "python",
   "name": "python3"
  },
  "language_info": {
   "codemirror_mode": {
    "name": "ipython",
    "version": 3
   },
   "file_extension": ".py",
   "mimetype": "text/x-python",
   "name": "python",
   "nbconvert_exporter": "python",
   "pygments_lexer": "ipython3",
   "version": "3.7.6"
  }
 },
 "nbformat": 4,
 "nbformat_minor": 4
}
